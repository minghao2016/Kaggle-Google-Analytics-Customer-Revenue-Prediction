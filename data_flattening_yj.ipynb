{
 "cells": [
  {
   "cell_type": "markdown",
   "metadata": {},
   "source": [
    "# Flattening dataset"
   ]
  },
  {
   "cell_type": "code",
   "execution_count": 27,
   "metadata": {},
   "outputs": [],
   "source": [
    "import os\n",
    "import json\n",
    "import numpy as np\n",
    "import pandas as pd\n",
    "from pandas.io.json import json_normalize"
   ]
  },
  {
   "cell_type": "code",
   "execution_count": 28,
   "metadata": {
    "scrolled": true
   },
   "outputs": [
    {
     "data": {
      "text/plain": [
       "'C:\\\\Users\\\\Yee Jet Tan\\\\Google Drive\\\\B 01 Programming\\\\Projects\\\\Z Kaggle Competitions\\\\Google Analytics Customer Revenue Prediction\\\\data'"
      ]
     },
     "execution_count": 28,
     "metadata": {},
     "output_type": "execute_result"
    }
   ],
   "source": [
    "os.getcwd()"
   ]
  },
  {
   "cell_type": "markdown",
   "metadata": {},
   "source": [
    "### Formula to flatten dataset"
   ]
  },
  {
   "cell_type": "code",
   "execution_count": 29,
   "metadata": {},
   "outputs": [],
   "source": [
    "def load_df(csv_path='train.csv', nrows=None):\n",
    "    JSON_COLUMNS = ['device', 'geoNetwork', 'totals', 'trafficSource']\n",
    "\n",
    "    df = pd.read_csv(csv_path, dtype={'fullVisitorId': 'str'}, nrows=nrows)\n",
    "\n",
    "    for column in JSON_COLUMNS:\n",
    "        df = df.join(pd.DataFrame(df.pop(column).apply(pd.io.json.loads).values.tolist(), index=df.index))\n",
    "\n",
    "    return df"
   ]
  },
  {
   "cell_type": "markdown",
   "metadata": {},
   "source": [
    "### Original train set "
   ]
  },
  {
   "cell_type": "code",
   "execution_count": 30,
   "metadata": {
    "scrolled": true
   },
   "outputs": [
    {
     "data": {
      "text/html": [
       "<div>\n",
       "<style scoped>\n",
       "    .dataframe tbody tr th:only-of-type {\n",
       "        vertical-align: middle;\n",
       "    }\n",
       "\n",
       "    .dataframe tbody tr th {\n",
       "        vertical-align: top;\n",
       "    }\n",
       "\n",
       "    .dataframe thead th {\n",
       "        text-align: right;\n",
       "    }\n",
       "</style>\n",
       "<table border=\"1\" class=\"dataframe\">\n",
       "  <thead>\n",
       "    <tr style=\"text-align: right;\">\n",
       "      <th></th>\n",
       "      <th>channelGrouping</th>\n",
       "      <th>date</th>\n",
       "      <th>device</th>\n",
       "      <th>fullVisitorId</th>\n",
       "      <th>geoNetwork</th>\n",
       "      <th>sessionId</th>\n",
       "      <th>socialEngagementType</th>\n",
       "      <th>totals</th>\n",
       "      <th>trafficSource</th>\n",
       "      <th>visitId</th>\n",
       "      <th>visitNumber</th>\n",
       "      <th>visitStartTime</th>\n",
       "    </tr>\n",
       "  </thead>\n",
       "  <tbody>\n",
       "    <tr>\n",
       "      <th>0</th>\n",
       "      <td>Organic Search</td>\n",
       "      <td>20160902</td>\n",
       "      <td>{\"browser\": \"Chrome\", \"browserVersion\": \"not a...</td>\n",
       "      <td>1.130000e+18</td>\n",
       "      <td>{\"continent\": \"Asia\", \"subContinent\": \"Western...</td>\n",
       "      <td>1131660440785968503_1472830385</td>\n",
       "      <td>Not Socially Engaged</td>\n",
       "      <td>{\"visits\": \"1\", \"hits\": \"1\", \"pageviews\": \"1\",...</td>\n",
       "      <td>{\"campaign\": \"(not set)\", \"source\": \"google\", ...</td>\n",
       "      <td>1472830385</td>\n",
       "      <td>1</td>\n",
       "      <td>1472830385</td>\n",
       "    </tr>\n",
       "    <tr>\n",
       "      <th>1</th>\n",
       "      <td>Organic Search</td>\n",
       "      <td>20160902</td>\n",
       "      <td>{\"browser\": \"Firefox\", \"browserVersion\": \"not ...</td>\n",
       "      <td>3.770000e+17</td>\n",
       "      <td>{\"continent\": \"Oceania\", \"subContinent\": \"Aust...</td>\n",
       "      <td>377306020877927890_1472880147</td>\n",
       "      <td>Not Socially Engaged</td>\n",
       "      <td>{\"visits\": \"1\", \"hits\": \"1\", \"pageviews\": \"1\",...</td>\n",
       "      <td>{\"campaign\": \"(not set)\", \"source\": \"google\", ...</td>\n",
       "      <td>1472880147</td>\n",
       "      <td>1</td>\n",
       "      <td>1472880147</td>\n",
       "    </tr>\n",
       "    <tr>\n",
       "      <th>2</th>\n",
       "      <td>Organic Search</td>\n",
       "      <td>20160902</td>\n",
       "      <td>{\"browser\": \"Chrome\", \"browserVersion\": \"not a...</td>\n",
       "      <td>3.900000e+18</td>\n",
       "      <td>{\"continent\": \"Europe\", \"subContinent\": \"South...</td>\n",
       "      <td>3895546263509774583_1472865386</td>\n",
       "      <td>Not Socially Engaged</td>\n",
       "      <td>{\"visits\": \"1\", \"hits\": \"1\", \"pageviews\": \"1\",...</td>\n",
       "      <td>{\"campaign\": \"(not set)\", \"source\": \"google\", ...</td>\n",
       "      <td>1472865386</td>\n",
       "      <td>1</td>\n",
       "      <td>1472865386</td>\n",
       "    </tr>\n",
       "    <tr>\n",
       "      <th>3</th>\n",
       "      <td>Organic Search</td>\n",
       "      <td>20160902</td>\n",
       "      <td>{\"browser\": \"UC Browser\", \"browserVersion\": \"n...</td>\n",
       "      <td>4.760000e+18</td>\n",
       "      <td>{\"continent\": \"Asia\", \"subContinent\": \"Southea...</td>\n",
       "      <td>4763447161404445595_1472881213</td>\n",
       "      <td>Not Socially Engaged</td>\n",
       "      <td>{\"visits\": \"1\", \"hits\": \"1\", \"pageviews\": \"1\",...</td>\n",
       "      <td>{\"campaign\": \"(not set)\", \"source\": \"google\", ...</td>\n",
       "      <td>1472881213</td>\n",
       "      <td>1</td>\n",
       "      <td>1472881213</td>\n",
       "    </tr>\n",
       "    <tr>\n",
       "      <th>4</th>\n",
       "      <td>Organic Search</td>\n",
       "      <td>20160902</td>\n",
       "      <td>{\"browser\": \"Chrome\", \"browserVersion\": \"not a...</td>\n",
       "      <td>2.730000e+16</td>\n",
       "      <td>{\"continent\": \"Europe\", \"subContinent\": \"North...</td>\n",
       "      <td>27294437909732085_1472822600</td>\n",
       "      <td>Not Socially Engaged</td>\n",
       "      <td>{\"visits\": \"1\", \"hits\": \"1\", \"pageviews\": \"1\",...</td>\n",
       "      <td>{\"campaign\": \"(not set)\", \"source\": \"google\", ...</td>\n",
       "      <td>1472822600</td>\n",
       "      <td>2</td>\n",
       "      <td>1472822600</td>\n",
       "    </tr>\n",
       "  </tbody>\n",
       "</table>\n",
       "</div>"
      ],
      "text/plain": [
       "  channelGrouping      date  \\\n",
       "0  Organic Search  20160902   \n",
       "1  Organic Search  20160902   \n",
       "2  Organic Search  20160902   \n",
       "3  Organic Search  20160902   \n",
       "4  Organic Search  20160902   \n",
       "\n",
       "                                              device  fullVisitorId  \\\n",
       "0  {\"browser\": \"Chrome\", \"browserVersion\": \"not a...   1.130000e+18   \n",
       "1  {\"browser\": \"Firefox\", \"browserVersion\": \"not ...   3.770000e+17   \n",
       "2  {\"browser\": \"Chrome\", \"browserVersion\": \"not a...   3.900000e+18   \n",
       "3  {\"browser\": \"UC Browser\", \"browserVersion\": \"n...   4.760000e+18   \n",
       "4  {\"browser\": \"Chrome\", \"browserVersion\": \"not a...   2.730000e+16   \n",
       "\n",
       "                                          geoNetwork  \\\n",
       "0  {\"continent\": \"Asia\", \"subContinent\": \"Western...   \n",
       "1  {\"continent\": \"Oceania\", \"subContinent\": \"Aust...   \n",
       "2  {\"continent\": \"Europe\", \"subContinent\": \"South...   \n",
       "3  {\"continent\": \"Asia\", \"subContinent\": \"Southea...   \n",
       "4  {\"continent\": \"Europe\", \"subContinent\": \"North...   \n",
       "\n",
       "                        sessionId  socialEngagementType  \\\n",
       "0  1131660440785968503_1472830385  Not Socially Engaged   \n",
       "1   377306020877927890_1472880147  Not Socially Engaged   \n",
       "2  3895546263509774583_1472865386  Not Socially Engaged   \n",
       "3  4763447161404445595_1472881213  Not Socially Engaged   \n",
       "4    27294437909732085_1472822600  Not Socially Engaged   \n",
       "\n",
       "                                              totals  \\\n",
       "0  {\"visits\": \"1\", \"hits\": \"1\", \"pageviews\": \"1\",...   \n",
       "1  {\"visits\": \"1\", \"hits\": \"1\", \"pageviews\": \"1\",...   \n",
       "2  {\"visits\": \"1\", \"hits\": \"1\", \"pageviews\": \"1\",...   \n",
       "3  {\"visits\": \"1\", \"hits\": \"1\", \"pageviews\": \"1\",...   \n",
       "4  {\"visits\": \"1\", \"hits\": \"1\", \"pageviews\": \"1\",...   \n",
       "\n",
       "                                       trafficSource     visitId  visitNumber  \\\n",
       "0  {\"campaign\": \"(not set)\", \"source\": \"google\", ...  1472830385            1   \n",
       "1  {\"campaign\": \"(not set)\", \"source\": \"google\", ...  1472880147            1   \n",
       "2  {\"campaign\": \"(not set)\", \"source\": \"google\", ...  1472865386            1   \n",
       "3  {\"campaign\": \"(not set)\", \"source\": \"google\", ...  1472881213            1   \n",
       "4  {\"campaign\": \"(not set)\", \"source\": \"google\", ...  1472822600            2   \n",
       "\n",
       "   visitStartTime  \n",
       "0      1472830385  \n",
       "1      1472880147  \n",
       "2      1472865386  \n",
       "3      1472881213  \n",
       "4      1472822600  "
      ]
     },
     "execution_count": 30,
     "metadata": {},
     "output_type": "execute_result"
    }
   ],
   "source": [
    "ori_train = pd.read_csv('train.csv')\n",
    "ori_train.head()"
   ]
  },
  {
   "cell_type": "markdown",
   "metadata": {},
   "source": [
    "### Original test set"
   ]
  },
  {
   "cell_type": "code",
   "execution_count": 31,
   "metadata": {},
   "outputs": [
    {
     "data": {
      "text/html": [
       "<div>\n",
       "<style scoped>\n",
       "    .dataframe tbody tr th:only-of-type {\n",
       "        vertical-align: middle;\n",
       "    }\n",
       "\n",
       "    .dataframe tbody tr th {\n",
       "        vertical-align: top;\n",
       "    }\n",
       "\n",
       "    .dataframe thead th {\n",
       "        text-align: right;\n",
       "    }\n",
       "</style>\n",
       "<table border=\"1\" class=\"dataframe\">\n",
       "  <thead>\n",
       "    <tr style=\"text-align: right;\">\n",
       "      <th></th>\n",
       "      <th>channelGrouping</th>\n",
       "      <th>date</th>\n",
       "      <th>device</th>\n",
       "      <th>fullVisitorId</th>\n",
       "      <th>geoNetwork</th>\n",
       "      <th>sessionId</th>\n",
       "      <th>socialEngagementType</th>\n",
       "      <th>totals</th>\n",
       "      <th>trafficSource</th>\n",
       "      <th>visitId</th>\n",
       "      <th>visitNumber</th>\n",
       "      <th>visitStartTime</th>\n",
       "    </tr>\n",
       "  </thead>\n",
       "  <tbody>\n",
       "    <tr>\n",
       "      <th>0</th>\n",
       "      <td>Organic Search</td>\n",
       "      <td>20171016</td>\n",
       "      <td>{\"browser\": \"Chrome\", \"browserVersion\": \"not a...</td>\n",
       "      <td>6.170000e+18</td>\n",
       "      <td>{\"continent\": \"Asia\", \"subContinent\": \"Southea...</td>\n",
       "      <td>6167871330617112363_1508151024</td>\n",
       "      <td>Not Socially Engaged</td>\n",
       "      <td>{\"visits\": \"1\", \"hits\": \"4\", \"pageviews\": \"4\"}</td>\n",
       "      <td>{\"campaign\": \"(not set)\", \"source\": \"google\", ...</td>\n",
       "      <td>1508151024</td>\n",
       "      <td>2</td>\n",
       "      <td>1508151024</td>\n",
       "    </tr>\n",
       "    <tr>\n",
       "      <th>1</th>\n",
       "      <td>Organic Search</td>\n",
       "      <td>20171016</td>\n",
       "      <td>{\"browser\": \"Chrome\", \"browserVersion\": \"not a...</td>\n",
       "      <td>6.440000e+17</td>\n",
       "      <td>{\"continent\": \"Europe\", \"subContinent\": \"South...</td>\n",
       "      <td>0643697640977915618_1508175522</td>\n",
       "      <td>Not Socially Engaged</td>\n",
       "      <td>{\"visits\": \"1\", \"hits\": \"5\", \"pageviews\": \"5\",...</td>\n",
       "      <td>{\"campaign\": \"(not set)\", \"source\": \"google\", ...</td>\n",
       "      <td>1508175522</td>\n",
       "      <td>1</td>\n",
       "      <td>1508175522</td>\n",
       "    </tr>\n",
       "    <tr>\n",
       "      <th>2</th>\n",
       "      <td>Organic Search</td>\n",
       "      <td>20171016</td>\n",
       "      <td>{\"browser\": \"Chrome\", \"browserVersion\": \"not a...</td>\n",
       "      <td>6.060000e+18</td>\n",
       "      <td>{\"continent\": \"Europe\", \"subContinent\": \"Weste...</td>\n",
       "      <td>6059383810968229466_1508143220</td>\n",
       "      <td>Not Socially Engaged</td>\n",
       "      <td>{\"visits\": \"1\", \"hits\": \"7\", \"pageviews\": \"7\",...</td>\n",
       "      <td>{\"campaign\": \"(not set)\", \"source\": \"google\", ...</td>\n",
       "      <td>1508143220</td>\n",
       "      <td>1</td>\n",
       "      <td>1508143220</td>\n",
       "    </tr>\n",
       "    <tr>\n",
       "      <th>3</th>\n",
       "      <td>Organic Search</td>\n",
       "      <td>20171016</td>\n",
       "      <td>{\"browser\": \"Safari\", \"browserVersion\": \"not a...</td>\n",
       "      <td>2.380000e+18</td>\n",
       "      <td>{\"continent\": \"Americas\", \"subContinent\": \"Nor...</td>\n",
       "      <td>2376720078563423631_1508193530</td>\n",
       "      <td>Not Socially Engaged</td>\n",
       "      <td>{\"visits\": \"1\", \"hits\": \"8\", \"pageviews\": \"4\",...</td>\n",
       "      <td>{\"campaign\": \"(not set)\", \"source\": \"google\", ...</td>\n",
       "      <td>1508193530</td>\n",
       "      <td>1</td>\n",
       "      <td>1508193530</td>\n",
       "    </tr>\n",
       "    <tr>\n",
       "      <th>4</th>\n",
       "      <td>Organic Search</td>\n",
       "      <td>20171016</td>\n",
       "      <td>{\"browser\": \"Safari\", \"browserVersion\": \"not a...</td>\n",
       "      <td>2.310000e+18</td>\n",
       "      <td>{\"continent\": \"Americas\", \"subContinent\": \"Nor...</td>\n",
       "      <td>2314544520795440038_1508217442</td>\n",
       "      <td>Not Socially Engaged</td>\n",
       "      <td>{\"visits\": \"1\", \"hits\": \"9\", \"pageviews\": \"4\",...</td>\n",
       "      <td>{\"campaign\": \"(not set)\", \"source\": \"google\", ...</td>\n",
       "      <td>1508217442</td>\n",
       "      <td>1</td>\n",
       "      <td>1508217442</td>\n",
       "    </tr>\n",
       "  </tbody>\n",
       "</table>\n",
       "</div>"
      ],
      "text/plain": [
       "  channelGrouping      date  \\\n",
       "0  Organic Search  20171016   \n",
       "1  Organic Search  20171016   \n",
       "2  Organic Search  20171016   \n",
       "3  Organic Search  20171016   \n",
       "4  Organic Search  20171016   \n",
       "\n",
       "                                              device  fullVisitorId  \\\n",
       "0  {\"browser\": \"Chrome\", \"browserVersion\": \"not a...   6.170000e+18   \n",
       "1  {\"browser\": \"Chrome\", \"browserVersion\": \"not a...   6.440000e+17   \n",
       "2  {\"browser\": \"Chrome\", \"browserVersion\": \"not a...   6.060000e+18   \n",
       "3  {\"browser\": \"Safari\", \"browserVersion\": \"not a...   2.380000e+18   \n",
       "4  {\"browser\": \"Safari\", \"browserVersion\": \"not a...   2.310000e+18   \n",
       "\n",
       "                                          geoNetwork  \\\n",
       "0  {\"continent\": \"Asia\", \"subContinent\": \"Southea...   \n",
       "1  {\"continent\": \"Europe\", \"subContinent\": \"South...   \n",
       "2  {\"continent\": \"Europe\", \"subContinent\": \"Weste...   \n",
       "3  {\"continent\": \"Americas\", \"subContinent\": \"Nor...   \n",
       "4  {\"continent\": \"Americas\", \"subContinent\": \"Nor...   \n",
       "\n",
       "                        sessionId  socialEngagementType  \\\n",
       "0  6167871330617112363_1508151024  Not Socially Engaged   \n",
       "1  0643697640977915618_1508175522  Not Socially Engaged   \n",
       "2  6059383810968229466_1508143220  Not Socially Engaged   \n",
       "3  2376720078563423631_1508193530  Not Socially Engaged   \n",
       "4  2314544520795440038_1508217442  Not Socially Engaged   \n",
       "\n",
       "                                              totals  \\\n",
       "0     {\"visits\": \"1\", \"hits\": \"4\", \"pageviews\": \"4\"}   \n",
       "1  {\"visits\": \"1\", \"hits\": \"5\", \"pageviews\": \"5\",...   \n",
       "2  {\"visits\": \"1\", \"hits\": \"7\", \"pageviews\": \"7\",...   \n",
       "3  {\"visits\": \"1\", \"hits\": \"8\", \"pageviews\": \"4\",...   \n",
       "4  {\"visits\": \"1\", \"hits\": \"9\", \"pageviews\": \"4\",...   \n",
       "\n",
       "                                       trafficSource     visitId  visitNumber  \\\n",
       "0  {\"campaign\": \"(not set)\", \"source\": \"google\", ...  1508151024            2   \n",
       "1  {\"campaign\": \"(not set)\", \"source\": \"google\", ...  1508175522            1   \n",
       "2  {\"campaign\": \"(not set)\", \"source\": \"google\", ...  1508143220            1   \n",
       "3  {\"campaign\": \"(not set)\", \"source\": \"google\", ...  1508193530            1   \n",
       "4  {\"campaign\": \"(not set)\", \"source\": \"google\", ...  1508217442            1   \n",
       "\n",
       "   visitStartTime  \n",
       "0      1508151024  \n",
       "1      1508175522  \n",
       "2      1508143220  \n",
       "3      1508193530  \n",
       "4      1508217442  "
      ]
     },
     "execution_count": 31,
     "metadata": {},
     "output_type": "execute_result"
    }
   ],
   "source": [
    "ori_test = pd.read_csv('test.csv')\n",
    "ori_test.head()"
   ]
  },
  {
   "cell_type": "markdown",
   "metadata": {},
   "source": [
    "### Flattened train set "
   ]
  },
  {
   "cell_type": "code",
   "execution_count": 32,
   "metadata": {
    "scrolled": false
   },
   "outputs": [
    {
     "data": {
      "text/html": [
       "<div>\n",
       "<style scoped>\n",
       "    .dataframe tbody tr th:only-of-type {\n",
       "        vertical-align: middle;\n",
       "    }\n",
       "\n",
       "    .dataframe tbody tr th {\n",
       "        vertical-align: top;\n",
       "    }\n",
       "\n",
       "    .dataframe thead th {\n",
       "        text-align: right;\n",
       "    }\n",
       "</style>\n",
       "<table border=\"1\" class=\"dataframe\">\n",
       "  <thead>\n",
       "    <tr style=\"text-align: right;\">\n",
       "      <th></th>\n",
       "      <th>channelGrouping</th>\n",
       "      <th>date</th>\n",
       "      <th>fullVisitorId</th>\n",
       "      <th>sessionId</th>\n",
       "      <th>socialEngagementType</th>\n",
       "      <th>visitId</th>\n",
       "      <th>visitNumber</th>\n",
       "      <th>visitStartTime</th>\n",
       "      <th>browser</th>\n",
       "      <th>browserSize</th>\n",
       "      <th>...</th>\n",
       "      <th>visits</th>\n",
       "      <th>adContent</th>\n",
       "      <th>adwordsClickInfo</th>\n",
       "      <th>campaign</th>\n",
       "      <th>campaignCode</th>\n",
       "      <th>isTrueDirect</th>\n",
       "      <th>keyword</th>\n",
       "      <th>medium</th>\n",
       "      <th>referralPath</th>\n",
       "      <th>source</th>\n",
       "    </tr>\n",
       "  </thead>\n",
       "  <tbody>\n",
       "    <tr>\n",
       "      <th>0</th>\n",
       "      <td>Organic Search</td>\n",
       "      <td>20160902</td>\n",
       "      <td>1.13E+18</td>\n",
       "      <td>1131660440785968503_1472830385</td>\n",
       "      <td>Not Socially Engaged</td>\n",
       "      <td>1472830385</td>\n",
       "      <td>1</td>\n",
       "      <td>1472830385</td>\n",
       "      <td>Chrome</td>\n",
       "      <td>not available in demo dataset</td>\n",
       "      <td>...</td>\n",
       "      <td>1</td>\n",
       "      <td>NaN</td>\n",
       "      <td>{'criteriaParameters': 'not available in demo ...</td>\n",
       "      <td>(not set)</td>\n",
       "      <td>NaN</td>\n",
       "      <td>NaN</td>\n",
       "      <td>(not provided)</td>\n",
       "      <td>organic</td>\n",
       "      <td>NaN</td>\n",
       "      <td>google</td>\n",
       "    </tr>\n",
       "    <tr>\n",
       "      <th>1</th>\n",
       "      <td>Organic Search</td>\n",
       "      <td>20160902</td>\n",
       "      <td>3.77E+17</td>\n",
       "      <td>377306020877927890_1472880147</td>\n",
       "      <td>Not Socially Engaged</td>\n",
       "      <td>1472880147</td>\n",
       "      <td>1</td>\n",
       "      <td>1472880147</td>\n",
       "      <td>Firefox</td>\n",
       "      <td>not available in demo dataset</td>\n",
       "      <td>...</td>\n",
       "      <td>1</td>\n",
       "      <td>NaN</td>\n",
       "      <td>{'criteriaParameters': 'not available in demo ...</td>\n",
       "      <td>(not set)</td>\n",
       "      <td>NaN</td>\n",
       "      <td>NaN</td>\n",
       "      <td>(not provided)</td>\n",
       "      <td>organic</td>\n",
       "      <td>NaN</td>\n",
       "      <td>google</td>\n",
       "    </tr>\n",
       "    <tr>\n",
       "      <th>2</th>\n",
       "      <td>Organic Search</td>\n",
       "      <td>20160902</td>\n",
       "      <td>3.90E+18</td>\n",
       "      <td>3895546263509774583_1472865386</td>\n",
       "      <td>Not Socially Engaged</td>\n",
       "      <td>1472865386</td>\n",
       "      <td>1</td>\n",
       "      <td>1472865386</td>\n",
       "      <td>Chrome</td>\n",
       "      <td>not available in demo dataset</td>\n",
       "      <td>...</td>\n",
       "      <td>1</td>\n",
       "      <td>NaN</td>\n",
       "      <td>{'criteriaParameters': 'not available in demo ...</td>\n",
       "      <td>(not set)</td>\n",
       "      <td>NaN</td>\n",
       "      <td>NaN</td>\n",
       "      <td>(not provided)</td>\n",
       "      <td>organic</td>\n",
       "      <td>NaN</td>\n",
       "      <td>google</td>\n",
       "    </tr>\n",
       "    <tr>\n",
       "      <th>3</th>\n",
       "      <td>Organic Search</td>\n",
       "      <td>20160902</td>\n",
       "      <td>4.76E+18</td>\n",
       "      <td>4763447161404445595_1472881213</td>\n",
       "      <td>Not Socially Engaged</td>\n",
       "      <td>1472881213</td>\n",
       "      <td>1</td>\n",
       "      <td>1472881213</td>\n",
       "      <td>UC Browser</td>\n",
       "      <td>not available in demo dataset</td>\n",
       "      <td>...</td>\n",
       "      <td>1</td>\n",
       "      <td>NaN</td>\n",
       "      <td>{'criteriaParameters': 'not available in demo ...</td>\n",
       "      <td>(not set)</td>\n",
       "      <td>NaN</td>\n",
       "      <td>NaN</td>\n",
       "      <td>google + online</td>\n",
       "      <td>organic</td>\n",
       "      <td>NaN</td>\n",
       "      <td>google</td>\n",
       "    </tr>\n",
       "    <tr>\n",
       "      <th>4</th>\n",
       "      <td>Organic Search</td>\n",
       "      <td>20160902</td>\n",
       "      <td>2.73E+16</td>\n",
       "      <td>27294437909732085_1472822600</td>\n",
       "      <td>Not Socially Engaged</td>\n",
       "      <td>1472822600</td>\n",
       "      <td>2</td>\n",
       "      <td>1472822600</td>\n",
       "      <td>Chrome</td>\n",
       "      <td>not available in demo dataset</td>\n",
       "      <td>...</td>\n",
       "      <td>1</td>\n",
       "      <td>NaN</td>\n",
       "      <td>{'criteriaParameters': 'not available in demo ...</td>\n",
       "      <td>(not set)</td>\n",
       "      <td>NaN</td>\n",
       "      <td>True</td>\n",
       "      <td>(not provided)</td>\n",
       "      <td>organic</td>\n",
       "      <td>NaN</td>\n",
       "      <td>google</td>\n",
       "    </tr>\n",
       "  </tbody>\n",
       "</table>\n",
       "<p>5 rows × 50 columns</p>\n",
       "</div>"
      ],
      "text/plain": [
       "  channelGrouping      date fullVisitorId                       sessionId  \\\n",
       "0  Organic Search  20160902      1.13E+18  1131660440785968503_1472830385   \n",
       "1  Organic Search  20160902      3.77E+17   377306020877927890_1472880147   \n",
       "2  Organic Search  20160902      3.90E+18  3895546263509774583_1472865386   \n",
       "3  Organic Search  20160902      4.76E+18  4763447161404445595_1472881213   \n",
       "4  Organic Search  20160902      2.73E+16    27294437909732085_1472822600   \n",
       "\n",
       "   socialEngagementType     visitId  visitNumber  visitStartTime     browser  \\\n",
       "0  Not Socially Engaged  1472830385            1      1472830385      Chrome   \n",
       "1  Not Socially Engaged  1472880147            1      1472880147     Firefox   \n",
       "2  Not Socially Engaged  1472865386            1      1472865386      Chrome   \n",
       "3  Not Socially Engaged  1472881213            1      1472881213  UC Browser   \n",
       "4  Not Socially Engaged  1472822600            2      1472822600      Chrome   \n",
       "\n",
       "                     browserSize   ...   visits adContent  \\\n",
       "0  not available in demo dataset   ...        1       NaN   \n",
       "1  not available in demo dataset   ...        1       NaN   \n",
       "2  not available in demo dataset   ...        1       NaN   \n",
       "3  not available in demo dataset   ...        1       NaN   \n",
       "4  not available in demo dataset   ...        1       NaN   \n",
       "\n",
       "                                    adwordsClickInfo   campaign campaignCode  \\\n",
       "0  {'criteriaParameters': 'not available in demo ...  (not set)          NaN   \n",
       "1  {'criteriaParameters': 'not available in demo ...  (not set)          NaN   \n",
       "2  {'criteriaParameters': 'not available in demo ...  (not set)          NaN   \n",
       "3  {'criteriaParameters': 'not available in demo ...  (not set)          NaN   \n",
       "4  {'criteriaParameters': 'not available in demo ...  (not set)          NaN   \n",
       "\n",
       "  isTrueDirect          keyword   medium referralPath  source  \n",
       "0          NaN   (not provided)  organic          NaN  google  \n",
       "1          NaN   (not provided)  organic          NaN  google  \n",
       "2          NaN   (not provided)  organic          NaN  google  \n",
       "3          NaN  google + online  organic          NaN  google  \n",
       "4         True   (not provided)  organic          NaN  google  \n",
       "\n",
       "[5 rows x 50 columns]"
      ]
     },
     "execution_count": 32,
     "metadata": {},
     "output_type": "execute_result"
    }
   ],
   "source": [
    "df_train = load_df()\n",
    "df_train.head()"
   ]
  },
  {
   "cell_type": "markdown",
   "metadata": {},
   "source": [
    "### Flattened test set"
   ]
  },
  {
   "cell_type": "code",
   "execution_count": 33,
   "metadata": {
    "scrolled": true
   },
   "outputs": [
    {
     "data": {
      "text/html": [
       "<div>\n",
       "<style scoped>\n",
       "    .dataframe tbody tr th:only-of-type {\n",
       "        vertical-align: middle;\n",
       "    }\n",
       "\n",
       "    .dataframe tbody tr th {\n",
       "        vertical-align: top;\n",
       "    }\n",
       "\n",
       "    .dataframe thead th {\n",
       "        text-align: right;\n",
       "    }\n",
       "</style>\n",
       "<table border=\"1\" class=\"dataframe\">\n",
       "  <thead>\n",
       "    <tr style=\"text-align: right;\">\n",
       "      <th></th>\n",
       "      <th>channelGrouping</th>\n",
       "      <th>date</th>\n",
       "      <th>fullVisitorId</th>\n",
       "      <th>sessionId</th>\n",
       "      <th>socialEngagementType</th>\n",
       "      <th>visitId</th>\n",
       "      <th>visitNumber</th>\n",
       "      <th>visitStartTime</th>\n",
       "      <th>browser</th>\n",
       "      <th>browserSize</th>\n",
       "      <th>...</th>\n",
       "      <th>pageviews</th>\n",
       "      <th>visits</th>\n",
       "      <th>adContent</th>\n",
       "      <th>adwordsClickInfo</th>\n",
       "      <th>campaign</th>\n",
       "      <th>isTrueDirect</th>\n",
       "      <th>keyword</th>\n",
       "      <th>medium</th>\n",
       "      <th>referralPath</th>\n",
       "      <th>source</th>\n",
       "    </tr>\n",
       "  </thead>\n",
       "  <tbody>\n",
       "    <tr>\n",
       "      <th>0</th>\n",
       "      <td>Organic Search</td>\n",
       "      <td>20171016</td>\n",
       "      <td>6.17E+18</td>\n",
       "      <td>6167871330617112363_1508151024</td>\n",
       "      <td>Not Socially Engaged</td>\n",
       "      <td>1508151024</td>\n",
       "      <td>2</td>\n",
       "      <td>1508151024</td>\n",
       "      <td>Chrome</td>\n",
       "      <td>not available in demo dataset</td>\n",
       "      <td>...</td>\n",
       "      <td>4</td>\n",
       "      <td>1</td>\n",
       "      <td>NaN</td>\n",
       "      <td>{'criteriaParameters': 'not available in demo ...</td>\n",
       "      <td>(not set)</td>\n",
       "      <td>True</td>\n",
       "      <td>(not provided)</td>\n",
       "      <td>organic</td>\n",
       "      <td>NaN</td>\n",
       "      <td>google</td>\n",
       "    </tr>\n",
       "    <tr>\n",
       "      <th>1</th>\n",
       "      <td>Organic Search</td>\n",
       "      <td>20171016</td>\n",
       "      <td>6.44E+17</td>\n",
       "      <td>0643697640977915618_1508175522</td>\n",
       "      <td>Not Socially Engaged</td>\n",
       "      <td>1508175522</td>\n",
       "      <td>1</td>\n",
       "      <td>1508175522</td>\n",
       "      <td>Chrome</td>\n",
       "      <td>not available in demo dataset</td>\n",
       "      <td>...</td>\n",
       "      <td>5</td>\n",
       "      <td>1</td>\n",
       "      <td>NaN</td>\n",
       "      <td>{'criteriaParameters': 'not available in demo ...</td>\n",
       "      <td>(not set)</td>\n",
       "      <td>NaN</td>\n",
       "      <td>(not provided)</td>\n",
       "      <td>organic</td>\n",
       "      <td>NaN</td>\n",
       "      <td>google</td>\n",
       "    </tr>\n",
       "    <tr>\n",
       "      <th>2</th>\n",
       "      <td>Organic Search</td>\n",
       "      <td>20171016</td>\n",
       "      <td>6.06E+18</td>\n",
       "      <td>6059383810968229466_1508143220</td>\n",
       "      <td>Not Socially Engaged</td>\n",
       "      <td>1508143220</td>\n",
       "      <td>1</td>\n",
       "      <td>1508143220</td>\n",
       "      <td>Chrome</td>\n",
       "      <td>not available in demo dataset</td>\n",
       "      <td>...</td>\n",
       "      <td>7</td>\n",
       "      <td>1</td>\n",
       "      <td>NaN</td>\n",
       "      <td>{'criteriaParameters': 'not available in demo ...</td>\n",
       "      <td>(not set)</td>\n",
       "      <td>NaN</td>\n",
       "      <td>(not provided)</td>\n",
       "      <td>organic</td>\n",
       "      <td>NaN</td>\n",
       "      <td>google</td>\n",
       "    </tr>\n",
       "    <tr>\n",
       "      <th>3</th>\n",
       "      <td>Organic Search</td>\n",
       "      <td>20171016</td>\n",
       "      <td>2.38E+18</td>\n",
       "      <td>2376720078563423631_1508193530</td>\n",
       "      <td>Not Socially Engaged</td>\n",
       "      <td>1508193530</td>\n",
       "      <td>1</td>\n",
       "      <td>1508193530</td>\n",
       "      <td>Safari</td>\n",
       "      <td>not available in demo dataset</td>\n",
       "      <td>...</td>\n",
       "      <td>4</td>\n",
       "      <td>1</td>\n",
       "      <td>NaN</td>\n",
       "      <td>{'criteriaParameters': 'not available in demo ...</td>\n",
       "      <td>(not set)</td>\n",
       "      <td>NaN</td>\n",
       "      <td>(not provided)</td>\n",
       "      <td>organic</td>\n",
       "      <td>NaN</td>\n",
       "      <td>google</td>\n",
       "    </tr>\n",
       "    <tr>\n",
       "      <th>4</th>\n",
       "      <td>Organic Search</td>\n",
       "      <td>20171016</td>\n",
       "      <td>2.31E+18</td>\n",
       "      <td>2314544520795440038_1508217442</td>\n",
       "      <td>Not Socially Engaged</td>\n",
       "      <td>1508217442</td>\n",
       "      <td>1</td>\n",
       "      <td>1508217442</td>\n",
       "      <td>Safari</td>\n",
       "      <td>not available in demo dataset</td>\n",
       "      <td>...</td>\n",
       "      <td>4</td>\n",
       "      <td>1</td>\n",
       "      <td>NaN</td>\n",
       "      <td>{'criteriaParameters': 'not available in demo ...</td>\n",
       "      <td>(not set)</td>\n",
       "      <td>NaN</td>\n",
       "      <td>(not provided)</td>\n",
       "      <td>organic</td>\n",
       "      <td>NaN</td>\n",
       "      <td>google</td>\n",
       "    </tr>\n",
       "  </tbody>\n",
       "</table>\n",
       "<p>5 rows × 48 columns</p>\n",
       "</div>"
      ],
      "text/plain": [
       "  channelGrouping      date fullVisitorId                       sessionId  \\\n",
       "0  Organic Search  20171016      6.17E+18  6167871330617112363_1508151024   \n",
       "1  Organic Search  20171016      6.44E+17  0643697640977915618_1508175522   \n",
       "2  Organic Search  20171016      6.06E+18  6059383810968229466_1508143220   \n",
       "3  Organic Search  20171016      2.38E+18  2376720078563423631_1508193530   \n",
       "4  Organic Search  20171016      2.31E+18  2314544520795440038_1508217442   \n",
       "\n",
       "   socialEngagementType     visitId  visitNumber  visitStartTime browser  \\\n",
       "0  Not Socially Engaged  1508151024            2      1508151024  Chrome   \n",
       "1  Not Socially Engaged  1508175522            1      1508175522  Chrome   \n",
       "2  Not Socially Engaged  1508143220            1      1508143220  Chrome   \n",
       "3  Not Socially Engaged  1508193530            1      1508193530  Safari   \n",
       "4  Not Socially Engaged  1508217442            1      1508217442  Safari   \n",
       "\n",
       "                     browserSize   ...   pageviews visits adContent  \\\n",
       "0  not available in demo dataset   ...           4      1       NaN   \n",
       "1  not available in demo dataset   ...           5      1       NaN   \n",
       "2  not available in demo dataset   ...           7      1       NaN   \n",
       "3  not available in demo dataset   ...           4      1       NaN   \n",
       "4  not available in demo dataset   ...           4      1       NaN   \n",
       "\n",
       "                                    adwordsClickInfo   campaign isTrueDirect  \\\n",
       "0  {'criteriaParameters': 'not available in demo ...  (not set)         True   \n",
       "1  {'criteriaParameters': 'not available in demo ...  (not set)          NaN   \n",
       "2  {'criteriaParameters': 'not available in demo ...  (not set)          NaN   \n",
       "3  {'criteriaParameters': 'not available in demo ...  (not set)          NaN   \n",
       "4  {'criteriaParameters': 'not available in demo ...  (not set)          NaN   \n",
       "\n",
       "          keyword   medium referralPath  source  \n",
       "0  (not provided)  organic          NaN  google  \n",
       "1  (not provided)  organic          NaN  google  \n",
       "2  (not provided)  organic          NaN  google  \n",
       "3  (not provided)  organic          NaN  google  \n",
       "4  (not provided)  organic          NaN  google  \n",
       "\n",
       "[5 rows x 48 columns]"
      ]
     },
     "execution_count": 33,
     "metadata": {},
     "output_type": "execute_result"
    }
   ],
   "source": [
    "df_test = load_df('test.csv')\n",
    "df_test.head()"
   ]
  },
  {
   "cell_type": "markdown",
   "metadata": {},
   "source": [
    "### Columns of original train set "
   ]
  },
  {
   "cell_type": "code",
   "execution_count": 34,
   "metadata": {
    "scrolled": true
   },
   "outputs": [
    {
     "name": "stdout",
     "output_type": "stream",
     "text": [
      "Index(['channelGrouping', 'date', 'device', 'fullVisitorId', 'geoNetwork',\n",
      "       'sessionId', 'socialEngagementType', 'totals', 'trafficSource',\n",
      "       'visitId', 'visitNumber', 'visitStartTime'],\n",
      "      dtype='object')\n"
     ]
    },
    {
     "data": {
      "text/plain": [
       "12"
      ]
     },
     "execution_count": 34,
     "metadata": {},
     "output_type": "execute_result"
    }
   ],
   "source": [
    "print(ori_train.columns)\n",
    "len(ori_train.columns)"
   ]
  },
  {
   "cell_type": "markdown",
   "metadata": {},
   "source": [
    "### Columns of original test set"
   ]
  },
  {
   "cell_type": "code",
   "execution_count": 35,
   "metadata": {},
   "outputs": [
    {
     "name": "stdout",
     "output_type": "stream",
     "text": [
      "Index(['channelGrouping', 'date', 'device', 'fullVisitorId', 'geoNetwork',\n",
      "       'sessionId', 'socialEngagementType', 'totals', 'trafficSource',\n",
      "       'visitId', 'visitNumber', 'visitStartTime'],\n",
      "      dtype='object')\n"
     ]
    },
    {
     "data": {
      "text/plain": [
       "12"
      ]
     },
     "execution_count": 35,
     "metadata": {},
     "output_type": "execute_result"
    }
   ],
   "source": [
    "print(ori_test.columns)\n",
    "len(ori_test.columns)"
   ]
  },
  {
   "cell_type": "markdown",
   "metadata": {},
   "source": [
    "### Columns of flattened train set "
   ]
  },
  {
   "cell_type": "code",
   "execution_count": 36,
   "metadata": {
    "scrolled": true
   },
   "outputs": [
    {
     "name": "stdout",
     "output_type": "stream",
     "text": [
      "Index(['channelGrouping', 'date', 'fullVisitorId', 'sessionId',\n",
      "       'socialEngagementType', 'visitId', 'visitNumber', 'visitStartTime',\n",
      "       'browser', 'browserSize', 'browserVersion', 'deviceCategory',\n",
      "       'flashVersion', 'isMobile', 'language', 'mobileDeviceBranding',\n",
      "       'mobileDeviceInfo', 'mobileDeviceMarketingName', 'mobileDeviceModel',\n",
      "       'mobileInputSelector', 'operatingSystem', 'operatingSystemVersion',\n",
      "       'screenColors', 'screenResolution', 'city', 'cityId', 'continent',\n",
      "       'country', 'latitude', 'longitude', 'metro', 'networkDomain',\n",
      "       'networkLocation', 'region', 'subContinent', 'bounces', 'hits',\n",
      "       'newVisits', 'pageviews', 'transactionRevenue', 'visits', 'adContent',\n",
      "       'adwordsClickInfo', 'campaign', 'campaignCode', 'isTrueDirect',\n",
      "       'keyword', 'medium', 'referralPath', 'source'],\n",
      "      dtype='object')\n"
     ]
    },
    {
     "data": {
      "text/plain": [
       "50"
      ]
     },
     "execution_count": 36,
     "metadata": {},
     "output_type": "execute_result"
    }
   ],
   "source": [
    "print(df_train.columns)\n",
    "len(df_train.columns)"
   ]
  },
  {
   "cell_type": "markdown",
   "metadata": {},
   "source": [
    "### Columns of flattened test set "
   ]
  },
  {
   "cell_type": "code",
   "execution_count": 39,
   "metadata": {
    "scrolled": false
   },
   "outputs": [
    {
     "name": "stdout",
     "output_type": "stream",
     "text": [
      "Index(['channelGrouping', 'date', 'fullVisitorId', 'sessionId',\n",
      "       'socialEngagementType', 'visitId', 'visitNumber', 'visitStartTime',\n",
      "       'browser', 'browserSize', 'browserVersion', 'deviceCategory',\n",
      "       'flashVersion', 'isMobile', 'language', 'mobileDeviceBranding',\n",
      "       'mobileDeviceInfo', 'mobileDeviceMarketingName', 'mobileDeviceModel',\n",
      "       'mobileInputSelector', 'operatingSystem', 'operatingSystemVersion',\n",
      "       'screenColors', 'screenResolution', 'city', 'cityId', 'continent',\n",
      "       'country', 'latitude', 'longitude', 'metro', 'networkDomain',\n",
      "       'networkLocation', 'region', 'subContinent', 'bounces', 'hits',\n",
      "       'newVisits', 'pageviews', 'visits', 'adContent', 'adwordsClickInfo',\n",
      "       'campaign', 'isTrueDirect', 'keyword', 'medium', 'referralPath',\n",
      "       'source'],\n",
      "      dtype='object')\n"
     ]
    },
    {
     "data": {
      "text/plain": [
       "48"
      ]
     },
     "execution_count": 39,
     "metadata": {},
     "output_type": "execute_result"
    }
   ],
   "source": [
    "print(df_test.columns)\n",
    "len(df_test.columns)"
   ]
  },
  {
   "cell_type": "markdown",
   "metadata": {},
   "source": [
    "### Columns of flattened train set vs. flattened test set"
   ]
  },
  {
   "cell_type": "code",
   "execution_count": 37,
   "metadata": {
    "scrolled": true
   },
   "outputs": [
    {
     "data": {
      "text/plain": [
       "Index(['campaignCode', 'transactionRevenue'], dtype='object')"
      ]
     },
     "execution_count": 37,
     "metadata": {},
     "output_type": "execute_result"
    }
   ],
   "source": [
    "df_train.columns.difference(df_test.columns)"
   ]
  },
  {
   "cell_type": "markdown",
   "metadata": {},
   "source": [
    "### Make csv file"
   ]
  },
  {
   "cell_type": "code",
   "execution_count": 38,
   "metadata": {},
   "outputs": [],
   "source": [
    "df_train.to_csv(\"train-flattened.csv\", index=False)\n",
    "df_test.to_csv(\"test-flattened.csv\", index=False)"
   ]
  }
 ],
 "metadata": {
  "kernelspec": {
   "display_name": "Python 3",
   "language": "python",
   "name": "python3"
  },
  "language_info": {
   "codemirror_mode": {
    "name": "ipython",
    "version": 3
   },
   "file_extension": ".py",
   "mimetype": "text/x-python",
   "name": "python",
   "nbconvert_exporter": "python",
   "pygments_lexer": "ipython3",
   "version": "3.6.6"
  }
 },
 "nbformat": 4,
 "nbformat_minor": 2
}
